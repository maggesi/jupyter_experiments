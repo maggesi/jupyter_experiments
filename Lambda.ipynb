{
 "cells": [
  {
   "cell_type": "code",
   "execution_count": 1,
   "metadata": {},
   "outputs": [],
   "source": [
    "class Term:\n",
    "\n",
    "    def _eq__from_Const(self,other):\n",
    "        return False\n",
    "    \n",
    "    def _eq__from_Var(self,other):\n",
    "        return False\n",
    "\n",
    "    def _eq__from_Comb(self,other):\n",
    "        return False\n",
    "\n",
    "    def _eq__from_Abs(self,other):\n",
    "        return False\n"
   ]
  },
  {
   "cell_type": "code",
   "execution_count": 2,
   "metadata": {},
   "outputs": [],
   "source": [
    "class Const(Term):\n",
    "    '''Constant'''\n",
    "\n",
    "    def __init__(self,s):\n",
    "        self.name=s\n",
    "\n",
    "    def __hash__(self):\n",
    "        return hash(self.name)\n",
    "\n",
    "    def __eq__(self,other):\n",
    "        return isinstance(other,Const) and \\\n",
    "               self.name == other.name\n",
    "\n",
    "    def __str__(self):\n",
    "        return self.name\n",
    "    \n",
    "    def frees(self):\n",
    "        return set()\n",
    "\n",
    "    def subst(self,f):\n",
    "        return self\n",
    "    \n",
    "    def strip_comb(self):\n",
    "        return [self]"
   ]
  },
  {
   "cell_type": "code",
   "execution_count": 3,
   "metadata": {},
   "outputs": [],
   "source": [
    "assert Const('x').name == 'x'\n",
    "assert len(Const('x').frees()) == 0\n",
    "assert Const('x').subst({'x': Const('x')}).name == 'x'"
   ]
  },
  {
   "cell_type": "code",
   "execution_count": 4,
   "metadata": {},
   "outputs": [],
   "source": [
    "def prime(v):\n",
    "    return Var(v.name+\"'\")\n",
    "\n",
    "def fresh(v,avoid):\n",
    "    return fresh(prime(v),avoid) if v in avoid else v"
   ]
  },
  {
   "cell_type": "code",
   "execution_count": 5,
   "metadata": {},
   "outputs": [],
   "source": [
    "class Var(Term):\n",
    "    '''Variable'''\n",
    "\n",
    "    def __init__(self,s):\n",
    "        self.name=s\n",
    "\n",
    "    def __hash__(self):\n",
    "        return hash(self.name)\n",
    "\n",
    "    def __eq__(self,other):\n",
    "        return isinstance(other,Var) and self.name == other.name\n",
    "\n",
    "    def __str__(self):\n",
    "        return self.name\n",
    "\n",
    "    def frees(self):\n",
    "        return {self}\n",
    "\n",
    "    def subst(self,f):\n",
    "        return f.get(self.name,self)\n",
    "    \n",
    "    def strip_comb(self):\n",
    "        return [self]"
   ]
  },
  {
   "cell_type": "code",
   "execution_count": 6,
   "metadata": {},
   "outputs": [],
   "source": [
    "assert Var('x').name == 'x'\n",
    "assert Var('x') == Var('x')\n",
    "assert Var('x') != Var('y')\n",
    "assert len(Var('x').frees()) == 1\n",
    "assert Var('x').subst({'x': Const('y')}).name == 'y'\n",
    "assert Var('x').subst({'y': Const('x')}).name == 'x'"
   ]
  },
  {
   "cell_type": "code",
   "execution_count": 7,
   "metadata": {},
   "outputs": [],
   "source": [
    "class Comb(Term):\n",
    "    '''Combination'''\n",
    "\n",
    "    def __init__(self,f,x):\n",
    "        self.rator = f\n",
    "        self.rand = x\n",
    "\n",
    "    def __hash__(self):\n",
    "        return hash(self.rator) ^ hash(self.rand)\n",
    "\n",
    "    def __eq__(self,other):\n",
    "        return other._eq__from_Comb(self)\n",
    "    \n",
    "    def _eq__from_Comb(self,other_comb):\n",
    "        return self.rand == other_comb.rand and \\\n",
    "               self.rator == other_comb.rator\n",
    "\n",
    "    def __str__(self):\n",
    "        #return ('({0.rator})'.format(self))\n",
    "        #return ('(' + str(self.rator) + ' ' + str(self.rand) + ')')\n",
    "        return '(' + ' '.join(map(str,self.strip_comb())) + ')'\n",
    "\n",
    "    def frees(self):\n",
    "        return (self.rator.frees() | self.rand.frees())\n",
    "\n",
    "    def subst(self,f):\n",
    "        return (Comb((self.rator).subst(f),(self.rand).subst(f)))\n",
    "    \n",
    "    def strip_comb(self):\n",
    "        return self.rator.strip_comb() + [self.rand]"
   ]
  },
  {
   "cell_type": "code",
   "execution_count": 8,
   "metadata": {},
   "outputs": [],
   "source": [
    "assert Comb(Var('x'),Const('y')) == Comb(Var('x'),Const('y'))\n",
    "assert Comb(Var('x'),Const('y')) != Var('y')\n",
    "assert Comb(Var('x'),Const('y')) != Comb(Var('x'),Var('y'))\n",
    "assert Comb(Var('x'),Var('y')).rator.name == 'x'\n",
    "assert Comb(Var('x'),Var('y')).strip_comb() == [Var('x'),Var('y')]\n",
    "assert Comb(Var('x'),Comb(Var('x'),Var('y'))).strip_comb() == [Var('x'),Comb(Var('x'),Var('y'))]\n",
    "assert Comb(Comb(Var('x'),Var('y')),Var('x')).strip_comb() == [Var('x'),Var('y'),Var('x')]\n",
    "assert str(Comb(Comb(Var('x'),Var('y')),Var('z'))) == '(x y z)'\n",
    "assert str(Comb(Var('x'),Comb(Var('y'),Var('z')))) == '(x (y z))'"
   ]
  },
  {
   "cell_type": "code",
   "execution_count": 9,
   "metadata": {},
   "outputs": [],
   "source": [
    "class Abs(Term):\n",
    "\n",
    "    def __init__(self,v,b):\n",
    "        self.absvar = v\n",
    "        self.body = b\n",
    "\n",
    "    def __hash__(self):\n",
    "        return hash(self.absvar) ^ hash(self.body)\n",
    "\n",
    "    def __eq__(self,other):\n",
    "        return isinstance(other,Abs) and self.absvar == other.absvar and self.body == other.body\n",
    "\n",
    "    def __str__(self):\n",
    "        return ('(\\\\'+str(self.absvar)+'. '+str(self.body)+')')\n",
    "\n",
    "    def frees(self):\n",
    "        fv = self.body.frees()\n",
    "        return (fv - {self.absvar})\n",
    "\n",
    "    def subst(self,f):\n",
    "        v = self.absvar\n",
    "        v1 = fresh(v,self.body.frees())\n",
    "        f1 = f.copy()\n",
    "        f1[v.name] = v1\n",
    "        return (Abs(v1,self.body.subst(f1)))\n",
    "\n",
    "    def strip_comb(self):\n",
    "        return [self]"
   ]
  },
  {
   "cell_type": "code",
   "execution_count": 10,
   "metadata": {},
   "outputs": [],
   "source": [
    "def showsubst(x,f):\n",
    "    print(x,'|-->', x.subst(f))"
   ]
  },
  {
   "cell_type": "code",
   "execution_count": 11,
   "metadata": {},
   "outputs": [
    {
     "name": "stdout",
     "output_type": "stream",
     "text": [
      "x |--> c\n",
      "(d x) |--> (d c)\n"
     ]
    }
   ],
   "source": [
    "showsubst(Var('x'),{'x': Const('c'), 'y': Var('x')})\n",
    "showsubst(Comb(Const('d'),Var('x')),{'x': Const('c'), 'y': Var('x')})"
   ]
  },
  {
   "cell_type": "code",
   "execution_count": 16,
   "metadata": {},
   "outputs": [
    {
     "name": "stdout",
     "output_type": "stream",
     "text": [
      "((\\x. (x c y)) (x c y))\n"
     ]
    }
   ],
   "source": [
    "xx = Var('x')\n",
    "yy = Var('y')\n",
    "cc = Const('c')\n",
    "tm1 = Comb(xx,cc)\n",
    "tm2 = Comb(tm1,yy)\n",
    "tm3 = Comb(Abs(xx,tm2),tm2)\n",
    "ff = {'x': yy, 'y': xx}\n",
    "print(tm3)"
   ]
  },
  {
   "cell_type": "code",
   "execution_count": 13,
   "metadata": {},
   "outputs": [
    {
     "name": "stdout",
     "output_type": "stream",
     "text": [
      "((\\x. (x c y)) (x c y)) |--> ((\\x'. (x' c x)) (y c x))\n"
     ]
    }
   ],
   "source": [
    "tm3.subst(ff)\n",
    "\n",
    "showsubst(tm3,ff)"
   ]
  },
  {
   "cell_type": "code",
   "execution_count": 14,
   "metadata": {},
   "outputs": [
    {
     "name": "stdout",
     "output_type": "stream",
     "text": [
      "{<__main__.Var object at 0x104932320>, <__main__.Var object at 0x104932550>}\n",
      "{<__main__.Var object at 0x104932320>, <__main__.Var object at 0x104932550>}\n"
     ]
    }
   ],
   "source": [
    "print(tm3.frees())\n",
    "print(Comb(tm3,tm3.subst(ff)).frees())"
   ]
  }
 ],
 "metadata": {
  "kernelspec": {
   "display_name": "Python 3",
   "language": "python",
   "name": "python3"
  },
  "language_info": {
   "codemirror_mode": {
    "name": "ipython",
    "version": 3
   },
   "file_extension": ".py",
   "mimetype": "text/x-python",
   "name": "python",
   "nbconvert_exporter": "python",
   "pygments_lexer": "ipython3",
   "version": "3.6.5"
  }
 },
 "nbformat": 4,
 "nbformat_minor": 2
}
